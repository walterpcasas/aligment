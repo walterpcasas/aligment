{
 "cells": [
  {
   "cell_type": "code",
   "execution_count": 3,
   "metadata": {},
   "outputs": [],
   "source": [
    "import os\n",
    "import csv\n",
    "import glob\n",
    "import random\n",
    "from PIL import Image\n",
    "\n",
    "import numpy as np\n",
    "import pandas as pd\n",
    "import matplotlib.pyplot as plt\n",
    "\n",
    "import cv2"
   ]
  },
  {
   "cell_type": "code",
   "execution_count": 4,
   "metadata": {},
   "outputs": [],
   "source": [
    "TAMANO_PARCHE = 128\n",
    "\n",
    "carpeta_lat = '/data_lids/home/walter/Lab/alignment/basep/raw/png_lat'\n",
    "carpeta_ref = '/data_lids/home/walter/Lab/alignment/basep/raw/png_ref'\n",
    "carpeta_mnt = '/data_lids/home/walter/Lab/alignment/basep/raw/mnt'\n",
    "carpeta_salida = '/data_lids/home/walter/Lab/alignment/basep/processed/patches'"
   ]
  },
  {
   "cell_type": "code",
   "execution_count": 5,
   "metadata": {},
   "outputs": [],
   "source": [
    "if not os.path.exists(carpeta_salida):\n",
    "    os.makedirs(carpeta_salida)"
   ]
  },
  {
   "cell_type": "code",
   "execution_count": 6,
   "metadata": {},
   "outputs": [],
   "source": [
    "for img_name in os.listdir(carpeta_lat):\n",
    "    if img_name.endswith(\".png\"):\n",
    "        txt_name = img_name.replace('.png', '.mnt')\n",
    "        txt_path = os.path.join(carpeta_mnt, txt_name)\n",
    "        \n",
    "        # Si el archivo .txt no se encuentra en carpeta_txt, buscar en carpeta_imagenes2\n",
    "        if not os.path.exists(txt_path):\n",
    "            txt_path = os.path.join(carpeta_ref, txt_name)\n",
    "\n",
    "        # Procesar el archivo .txt si se encuentra\n",
    "        if os.path.exists(txt_path):\n",
    "            with open(txt_path, 'r') as f:\n",
    "                lines = f.readlines()\n",
    "                for index, line in enumerate(lines[2:], start=1):\n",
    "                    coords = line.split()\n",
    "                    x, y = int(coords[0]), int(coords[1])\n",
    "                    \n",
    "                    # Cargar imagen\n",
    "                    img = Image.open(os.path.join(carpeta_lat, img_name))\n",
    "                    \n",
    "                    # Coordenadas para extraer el parche\n",
    "                    left = x - TAMANO_PARCHE // 2\n",
    "                    upper = y - TAMANO_PARCHE // 2\n",
    "                    right = x + TAMANO_PARCHE // 2\n",
    "                    lower = y + TAMANO_PARCHE // 2\n",
    "                    \n",
    "                    # Extraer parche\n",
    "                    patch = img.crop((left, upper, right, lower))\n",
    "                    \n",
    "                    # Guardar parche con el formato especificado\n",
    "                    patch_name = f\"{txt_name.replace('.mnt', '')}_p{index:03}.png\"\n",
    "                    patch.save(os.path.join(carpeta_salida, patch_name))\n"
   ]
  }
 ],
 "metadata": {
  "kernelspec": {
   "display_name": "Python 3",
   "language": "python",
   "name": "python3"
  },
  "language_info": {
   "codemirror_mode": {
    "name": "ipython",
    "version": 3
   },
   "file_extension": ".py",
   "mimetype": "text/x-python",
   "name": "python",
   "nbconvert_exporter": "python",
   "pygments_lexer": "ipython3",
   "version": "3.8.10"
  },
  "orig_nbformat": 4
 },
 "nbformat": 4,
 "nbformat_minor": 2
}
