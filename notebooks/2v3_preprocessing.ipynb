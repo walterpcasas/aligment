{
 "cells": [
  {
   "cell_type": "code",
   "execution_count": 1,
   "metadata": {},
   "outputs": [],
   "source": [
    "import os\n",
    "import shutil\n",
    "import random"
   ]
  },
  {
   "cell_type": "code",
   "execution_count": 2,
   "metadata": {},
   "outputs": [],
   "source": [
    "# Ubicación de las imágenes\n",
    "src_dir = '/data_lids/home/walter/Lab/alignment/basep/processed/rotations_064'\n",
    "out_dir = '/data_lids/home/walter/Lab/alignment/basep/processed/output_064'"
   ]
  },
  {
   "cell_type": "code",
   "execution_count": 3,
   "metadata": {},
   "outputs": [],
   "source": [
    "# Directorios de train y test\n",
    "train_dir = os.path.join(out_dir, 'train')\n",
    "test_dir = os.path.join(out_dir, 'test')"
   ]
  },
  {
   "cell_type": "code",
   "execution_count": 4,
   "metadata": {},
   "outputs": [],
   "source": [
    "# Crear directorios si no existen\n",
    "os.makedirs(train_dir, exist_ok=True)\n",
    "os.makedirs(test_dir, exist_ok=True)"
   ]
  },
  {
   "cell_type": "code",
   "execution_count": 5,
   "metadata": {},
   "outputs": [],
   "source": [
    "# Listar todas las imágenes en el directorio\n",
    "all_images = [img for img in os.listdir(src_dir) if img.endswith('.png')]"
   ]
  },
  {
   "cell_type": "code",
   "execution_count": 6,
   "metadata": {},
   "outputs": [],
   "source": [
    "# Mezclar las imágenes para asegurarnos de que la división sea aleatoria\n",
    "random.shuffle(all_images)"
   ]
  },
  {
   "cell_type": "code",
   "execution_count": 7,
   "metadata": {},
   "outputs": [],
   "source": [
    "# 80% de las imágenes para entrenamiento, 20% para prueba\n",
    "num_train = int(0.8 * len(all_images))\n",
    "train_images = all_images[:num_train]\n",
    "test_images = all_images[num_train:]"
   ]
  },
  {
   "cell_type": "code",
   "execution_count": 8,
   "metadata": {},
   "outputs": [
    {
     "name": "stdout",
     "output_type": "stream",
     "text": [
      "CPU times: user 98 ms, sys: 150 ms, total: 248 ms\n",
      "Wall time: 254 ms\n"
     ]
    }
   ],
   "source": [
    "%%time\n",
    "# Mover las imágenes a sus respectivas carpetas\n",
    "for img in train_images:\n",
    "    shutil.move(os.path.join(src_dir, img), train_dir)\n",
    "    \n",
    "for img in test_images:\n",
    "    shutil.move(os.path.join(src_dir, img), test_dir)"
   ]
  },
  {
   "cell_type": "code",
   "execution_count": null,
   "metadata": {},
   "outputs": [],
   "source": []
  }
 ],
 "metadata": {
  "kernelspec": {
   "display_name": "Python 3",
   "language": "python",
   "name": "python3"
  },
  "language_info": {
   "codemirror_mode": {
    "name": "ipython",
    "version": 3
   },
   "file_extension": ".py",
   "mimetype": "text/x-python",
   "name": "python",
   "nbconvert_exporter": "python",
   "pygments_lexer": "ipython3",
   "version": "3.8.10"
  },
  "orig_nbformat": 4
 },
 "nbformat": 4,
 "nbformat_minor": 2
}
