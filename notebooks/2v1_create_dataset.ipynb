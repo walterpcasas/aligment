{
 "cells": [
  {
   "cell_type": "code",
   "execution_count": 1,
   "metadata": {},
   "outputs": [],
   "source": [
    "import pandas as pd\n",
    "import os"
   ]
  },
  {
   "cell_type": "code",
   "execution_count": 3,
   "metadata": {},
   "outputs": [],
   "source": [
    "# Ruta de la carpeta con las imágenes\n",
    "carpeta_imagenes = '/data_lids/home/walter/Lab/alignment/basep/processed/patches'\n",
    "carpeta_salida = '/data_lids/home/walter/Lab/alignment/basep/processed'"
   ]
  },
  {
   "cell_type": "code",
   "execution_count": 2,
   "metadata": {},
   "outputs": [],
   "source": [
    "# Valores introducidos\n",
    "inicio = 0\n",
    "final = 30\n",
    "incremento = 15"
   ]
  },
  {
   "cell_type": "code",
   "execution_count": 4,
   "metadata": {},
   "outputs": [],
   "source": [
    "# Lista para almacenar el dataset\n",
    "data = []\n",
    "\n",
    "# Leer los nombres de las imágenes de la carpeta\n",
    "for img_name in os.listdir(carpeta_imagenes):\n",
    "    if img_name.endswith(\"_p001.png\"):\n",
    "        # Generar los valores basados en inicio, final e incremento\n",
    "        valores = list(range(inicio, final + 1, incremento))\n",
    "        \n",
    "        # Añadir cada valor al dataset junto con el nombre de la imagen\n",
    "        for valor in valores:\n",
    "            data.append([img_name, valor])\n",
    "\n",
    "# Convertir la lista a DataFrame\n",
    "df = pd.DataFrame(data, columns=['Imagen', 'Valor'])\n",
    "\n",
    "# Exportar el DataFrame como CSV\n",
    "df.to_csv(os.path.join(carpeta_salida, 'dataset.csv'), index=False)\n"
   ]
  },
  {
   "cell_type": "code",
   "execution_count": null,
   "metadata": {},
   "outputs": [],
   "source": []
  }
 ],
 "metadata": {
  "kernelspec": {
   "display_name": "Python 3",
   "language": "python",
   "name": "python3"
  },
  "language_info": {
   "codemirror_mode": {
    "name": "ipython",
    "version": 3
   },
   "file_extension": ".py",
   "mimetype": "text/x-python",
   "name": "python",
   "nbconvert_exporter": "python",
   "pygments_lexer": "ipython3",
   "version": "3.8.10"
  },
  "orig_nbformat": 4
 },
 "nbformat": 4,
 "nbformat_minor": 2
}
