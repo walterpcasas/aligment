{
 "cells": [
  {
   "cell_type": "code",
   "execution_count": 1,
   "metadata": {},
   "outputs": [],
   "source": [
    "import os\n",
    "from PIL import Image\n",
    "\n",
    "import numpy as np\n",
    "import pandas as pd\n",
    "import matplotlib.pyplot as plt"
   ]
  },
  {
   "cell_type": "code",
   "execution_count": 2,
   "metadata": {},
   "outputs": [],
   "source": [
    "def rotate_and_crop(img_path, angle, desired_size):\n",
    "    \"\"\"\n",
    "    Rota la imagen en el ángulo especificado y recorta para mantener el tamaño original.\n",
    "    \"\"\"\n",
    "    # Cargar la imagen en escala de grises\n",
    "    img = Image.open(img_path).convert(\"L\")\n",
    "\n",
    "    # Rotar la imagen\n",
    "    img_rotated = img.rotate(-angle, resample=Image.BICUBIC, expand=True)\n",
    "    \n",
    "    # Calcula las coordenadas para recortar la imagen rotada al tamaño original\n",
    "    x = (img_rotated.width - desired_size) // 2\n",
    "    y = (img_rotated.height - desired_size) // 2\n",
    "    right = x + desired_size\n",
    "    lower = y + desired_size\n",
    "\n",
    "    # Recortar la imagen\n",
    "    img_cropped = img_rotated.crop((x, y, right, lower))\n",
    "    \n",
    "    return img_cropped"
   ]
  },
  {
   "cell_type": "code",
   "execution_count": 3,
   "metadata": {},
   "outputs": [],
   "source": [
    "filename_input = '/data_lids/home/walter/Lab/alignment/basep/processed/dataset.csv'\n",
    "output_dir = '/data_lids/home/walter/Lab/alignment/basep/processed/rotations_064'\n",
    "input_dir = '/data_lids/home/walter/Lab/alignment/basep/processed/patches'"
   ]
  },
  {
   "cell_type": "code",
   "execution_count": 4,
   "metadata": {},
   "outputs": [
    {
     "data": {
      "text/html": [
       "<div>\n",
       "<style scoped>\n",
       "    .dataframe tbody tr th:only-of-type {\n",
       "        vertical-align: middle;\n",
       "    }\n",
       "\n",
       "    .dataframe tbody tr th {\n",
       "        vertical-align: top;\n",
       "    }\n",
       "\n",
       "    .dataframe thead th {\n",
       "        text-align: right;\n",
       "    }\n",
       "</style>\n",
       "<table border=\"1\" class=\"dataframe\">\n",
       "  <thead>\n",
       "    <tr style=\"text-align: right;\">\n",
       "      <th></th>\n",
       "      <th>Imagen</th>\n",
       "      <th>Valor</th>\n",
       "    </tr>\n",
       "  </thead>\n",
       "  <tbody>\n",
       "    <tr>\n",
       "      <th>0</th>\n",
       "      <td>765-105579847_p001.png</td>\n",
       "      <td>0</td>\n",
       "    </tr>\n",
       "    <tr>\n",
       "      <th>1</th>\n",
       "      <td>765-105579847_p001.png</td>\n",
       "      <td>15</td>\n",
       "    </tr>\n",
       "    <tr>\n",
       "      <th>2</th>\n",
       "      <td>765-105579847_p001.png</td>\n",
       "      <td>30</td>\n",
       "    </tr>\n",
       "    <tr>\n",
       "      <th>3</th>\n",
       "      <td>1279-106020819_p001.png</td>\n",
       "      <td>0</td>\n",
       "    </tr>\n",
       "    <tr>\n",
       "      <th>4</th>\n",
       "      <td>1279-106020819_p001.png</td>\n",
       "      <td>15</td>\n",
       "    </tr>\n",
       "  </tbody>\n",
       "</table>\n",
       "</div>"
      ],
      "text/plain": [
       "                    Imagen  Valor\n",
       "0   765-105579847_p001.png      0\n",
       "1   765-105579847_p001.png     15\n",
       "2   765-105579847_p001.png     30\n",
       "3  1279-106020819_p001.png      0\n",
       "4  1279-106020819_p001.png     15"
      ]
     },
     "execution_count": 4,
     "metadata": {},
     "output_type": "execute_result"
    }
   ],
   "source": [
    "df = pd.read_csv(filename_input)\n",
    "df.head()"
   ]
  },
  {
   "cell_type": "code",
   "execution_count": 5,
   "metadata": {},
   "outputs": [
    {
     "name": "stdout",
     "output_type": "stream",
     "text": [
      "CPU times: user 8.68 s, sys: 396 ms, total: 9.07 s\n",
      "Wall time: 9.08 s\n"
     ]
    }
   ],
   "source": [
    "%%time\n",
    "# Procesa cada imagen del dataset\n",
    "for index, row in df.iterrows():\n",
    "    img_path = os.path.join(input_dir, row['Imagen'])\n",
    "    \n",
    "    # Obtener el tamaño original de la imagen\n",
    "    original_img = Image.open(img_path)\n",
    "    desired_size = 64  # Asumiendo que la imagen es cuadrada\n",
    "    \n",
    "    # Rota y recorta la imagen\n",
    "    img_rotated_cropped = rotate_and_crop(img_path, row['Valor'], desired_size)\n",
    "    \n",
    "    filename = os.path.basename(img_path)\n",
    "    \n",
    "    # Guarda la imagen rotada y recortada\n",
    "    img_rotated_cropped.save(os.path.join(output_dir, filename.replace('.png', '_r{}.png'.format(row['Valor']))))\n"
   ]
  },
  {
   "cell_type": "code",
   "execution_count": null,
   "metadata": {},
   "outputs": [],
   "source": []
  }
 ],
 "metadata": {
  "kernelspec": {
   "display_name": "Python 3",
   "language": "python",
   "name": "python3"
  },
  "language_info": {
   "codemirror_mode": {
    "name": "ipython",
    "version": 3
   },
   "file_extension": ".py",
   "mimetype": "text/x-python",
   "name": "python",
   "nbconvert_exporter": "python",
   "pygments_lexer": "ipython3",
   "version": "3.8.10"
  },
  "orig_nbformat": 4
 },
 "nbformat": 4,
 "nbformat_minor": 2
}
