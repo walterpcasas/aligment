{
 "cells": [
  {
   "cell_type": "code",
   "execution_count": 1,
   "metadata": {},
   "outputs": [],
   "source": [
    "import os\n",
    "from PIL import Image\n",
    "\n",
    "import numpy as np\n",
    "import pandas as pd\n",
    "import matplotlib.pyplot as plt"
   ]
  },
  {
   "cell_type": "code",
   "execution_count": 2,
   "metadata": {},
   "outputs": [],
   "source": [
    "def rotate_image(image_path, angle, fill_color=(255)):\n",
    "    \"\"\"\n",
    "    Rota la imagen al ángulo especificado y rellena las áreas vacías con el color especificado.\n",
    "\n",
    "    Parámetros:\n",
    "    - image_path (str): Ruta de la imagen a rotar.\n",
    "    - angle (float): Ángulo de rotación en grados.\n",
    "    - fill_color (tuple, opcional): Color RGB para rellenar las áreas vacías. Por defecto es blanco.\n",
    "\n",
    "    Retorna:\n",
    "    - Image: Imagen rotada.\n",
    "    \"\"\"\n",
    "    # Carga la imagen\n",
    "    img = Image.open(image_path).convert('L')\n",
    "    \n",
    "    # Rota la imagen\n",
    "    img_rotated = img.rotate(-angle, resample=Image.BICUBIC, expand=True, fillcolor=fill_color)\n",
    "    \n",
    "    return img_rotated"
   ]
  },
  {
   "cell_type": "code",
   "execution_count": 3,
   "metadata": {},
   "outputs": [],
   "source": [
    "filename_input = 'dataset_filter.csv'\n",
    "output_dir = '../basep/processed/'"
   ]
  },
  {
   "cell_type": "code",
   "execution_count": 4,
   "metadata": {},
   "outputs": [
    {
     "data": {
      "text/html": [
       "<div>\n",
       "<style scoped>\n",
       "    .dataframe tbody tr th:only-of-type {\n",
       "        vertical-align: middle;\n",
       "    }\n",
       "\n",
       "    .dataframe tbody tr th {\n",
       "        vertical-align: top;\n",
       "    }\n",
       "\n",
       "    .dataframe thead th {\n",
       "        text-align: right;\n",
       "    }\n",
       "</style>\n",
       "<table border=\"1\" class=\"dataframe\">\n",
       "  <thead>\n",
       "    <tr style=\"text-align: right;\">\n",
       "      <th></th>\n",
       "      <th>png_path</th>\n",
       "      <th>angle</th>\n",
       "    </tr>\n",
       "  </thead>\n",
       "  <tbody>\n",
       "    <tr>\n",
       "      <th>0</th>\n",
       "      <td>../basep/raw/png_ref/957-46655849.png</td>\n",
       "      <td>27</td>\n",
       "    </tr>\n",
       "    <tr>\n",
       "      <th>1</th>\n",
       "      <td>../basep/raw/png_ref/85-77997880.png</td>\n",
       "      <td>22</td>\n",
       "    </tr>\n",
       "    <tr>\n",
       "      <th>2</th>\n",
       "      <td>../basep/raw/png_lat/2634-107598073.png</td>\n",
       "      <td>28</td>\n",
       "    </tr>\n",
       "    <tr>\n",
       "      <th>3</th>\n",
       "      <td>../basep/raw/png_ref/1975-69484352.png</td>\n",
       "      <td>17</td>\n",
       "    </tr>\n",
       "    <tr>\n",
       "      <th>4</th>\n",
       "      <td>../basep/raw/png_ref/2693-50183842.png</td>\n",
       "      <td>30</td>\n",
       "    </tr>\n",
       "  </tbody>\n",
       "</table>\n",
       "</div>"
      ],
      "text/plain": [
       "                                  png_path  angle\n",
       "0    ../basep/raw/png_ref/957-46655849.png     27\n",
       "1     ../basep/raw/png_ref/85-77997880.png     22\n",
       "2  ../basep/raw/png_lat/2634-107598073.png     28\n",
       "3   ../basep/raw/png_ref/1975-69484352.png     17\n",
       "4   ../basep/raw/png_ref/2693-50183842.png     30"
      ]
     },
     "execution_count": 4,
     "metadata": {},
     "output_type": "execute_result"
    }
   ],
   "source": [
    "df = pd.read_csv(filename_input)\n",
    "df.head()"
   ]
  },
  {
   "cell_type": "code",
   "execution_count": 5,
   "metadata": {},
   "outputs": [
    {
     "name": "stdout",
     "output_type": "stream",
     "text": [
      "CPU times: user 4min 5s, sys: 2.08 s, total: 4min 7s\n",
      "Wall time: 4min 8s\n"
     ]
    }
   ],
   "source": [
    "%%time\n",
    "# Procesa cada imagen del dataset\n",
    "for index, row in df.iterrows():\n",
    "    # Rota la imagen\n",
    "    img_rotated = rotate_image(row['png_path'], row['angle'])\n",
    "    filename = os.path.basename(row['png_path'])\n",
    "\n",
    "    # Guarda la imagen rotada (en este caso, sobrescribimos la original, pero puedes cambiar la ruta si lo prefieres)\n",
    "    img_rotated.save(os.path.join(output_dir, filename.replace('.png', '_r{}.png'.format(row['angle']))))"
   ]
  },
  {
   "cell_type": "code",
   "execution_count": null,
   "metadata": {},
   "outputs": [],
   "source": []
  }
 ],
 "metadata": {
  "kernelspec": {
   "display_name": "Python 3",
   "language": "python",
   "name": "python3"
  },
  "language_info": {
   "codemirror_mode": {
    "name": "ipython",
    "version": 3
   },
   "file_extension": ".py",
   "mimetype": "text/x-python",
   "name": "python",
   "nbconvert_exporter": "python",
   "pygments_lexer": "ipython3",
   "version": "3.8.10"
  },
  "orig_nbformat": 4
 },
 "nbformat": 4,
 "nbformat_minor": 2
}
